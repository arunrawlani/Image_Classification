{
 "cells": [
  {
   "cell_type": "code",
   "execution_count": 1,
   "metadata": {
    "collapsed": false
   },
   "outputs": [],
   "source": [
    "import numpy\n",
    "trainX = numpy.load('tinyX.npy') # this should have shape (26344, 3, 64, 64)\n",
    "trainY = numpy.load('tinyY.npy') \n",
    "testX = numpy.load('tinyX_test.npy') # (6600, 3, 64, 64)\n",
    "\n",
    "# to visualize only\n",
    "#import scipy.misc\n",
    "#scipy.misc.imshow(trainX[0].transpose(2,1,0)) # put RGB channels last\n",
    "\n",
    "from matplotlib import pyplot as plt\n",
    "#plt.imshow(trainX[0].transpose(2,1,0))\n",
    "#plt.show()\n",
    "\n",
    "import tensorflow\n",
    "import tflearn\n",
    "from tflearn.data_utils import shuffle, to_categorical\n",
    "import sklearn\n",
    "from sklearn.cross_validation import train_test_split\n",
    "from tflearn.data_preprocessing import ImagePreprocessing\n",
    "from tflearn.data_augmentation import ImageAugmentation\n",
    "\n",
    "from tflearn.layers.core import input_data, dropout, fully_connected\n",
    "from tflearn.layers.conv import conv_2d, max_pool_2d\n",
    "from tflearn.layers.estimator import regression\n",
    "from __future__ import division, print_function, absolute_import"
   ]
  },
  {
   "cell_type": "code",
   "execution_count": 2,
   "metadata": {
    "collapsed": false
   },
   "outputs": [
    {
     "data": {
      "text/plain": [
       "array([0, 2, 0, ..., 0, 0, 4], dtype=uint8)"
      ]
     },
     "execution_count": 2,
     "metadata": {},
     "output_type": "execute_result"
    }
   ],
   "source": [
    "#Dataloading and preprocessing\n",
    "trainX, trainY = shuffle(trainX, trainY) #what is this shuffling exactly doing?\n",
    "\n",
    "X_train, X_valid, y_train, y_valid = train_test_split(trainX, trainY, test_size=0.80, random_state=42)\n",
    "y_train = to_categorical(y_train, 40)\n",
    "y_valid = to_categorical(y_valid, 40)\n",
    "\n",
    "trainY"
   ]
  },
  {
   "cell_type": "code",
   "execution_count": null,
   "metadata": {
    "collapsed": false
   },
   "outputs": [],
   "source": [
    "#Image processing\n",
    "img_prep = ImagePreprocessing()\n",
    "img_prep.add_featurewise_zero_center() #what?\n",
    "img_prep.add_featurewise_stdnorm() #what?\n",
    "\n",
    "# Real-time data augmentation\n",
    "img_aug = ImageAugmentation()\n",
    "img_aug.add_random_flip_leftright()\n",
    "img_aug.add_random_rotation(max_angle=25.)"
   ]
  },
  {
   "cell_type": "code",
   "execution_count": null,
   "metadata": {
    "collapsed": false
   },
   "outputs": [],
   "source": [
    "#Convolutional Neural Network\n",
    "\n",
    "#creating data model\n",
    "cnn_network = input_data(shape=[None, 64, 64, 3], data_preprocessing=img_prep, data_augmentation=img_aug)\n",
    "\n",
    "#creating 2D Convolution\n",
    "cnn_network = conv_2d(cnn_network, 64, 3, activation='relu')\n",
    "\n",
    "cnn_network = max_pool_2d(cnn_network, 2)\n",
    "\n",
    "cnn_network = conv_2d(cnn_network, 128, 3, activation='relu')\n",
    "cnn_network = conv_2d(cnn_network, 128, 3, activation='relu')\n",
    "\n",
    "cnn_network = max_pool_2d(cnn_network, 2)\n",
    "\n",
    "cnn_network = fully_connected(cnn_network, 512, activation='relu')\n",
    "\n",
    "cnn_network = dropout(cnn_network, 0.5)\n",
    "\n",
    "cnn_network = fully_connected(cnn_network, 40, activation='softmax')\n",
    "\n",
    "cnn_network = regression(cnn_network, optimizer='adam', loss='categorical_crossentropy', learning_rate=0.001)\n",
    "\n",
    "#Train the classifier now\n",
    "model = tflearn.DNN(cnn_network, tensorboard_verbose=0)\n",
    "model.fit(X_train, y_train, n_epoch=50, shuffle=True, validation_set=(X_valid, y_valid), show_metric=True, batch_size=96)\n",
    "\n",
    "\n"
   ]
  },
  {
   "cell_type": "code",
   "execution_count": null,
   "metadata": {
    "collapsed": true
   },
   "outputs": [],
   "source": []
  }
 ],
 "metadata": {
  "anaconda-cloud": {},
  "kernelspec": {
   "display_name": "Python [conda root]",
   "language": "python",
   "name": "conda-root-py"
  },
  "language_info": {
   "codemirror_mode": {
    "name": "ipython",
    "version": 2
   },
   "file_extension": ".py",
   "mimetype": "text/x-python",
   "name": "python",
   "nbconvert_exporter": "python",
   "pygments_lexer": "ipython2",
   "version": "2.7.12"
  }
 },
 "nbformat": 4,
 "nbformat_minor": 1
}
